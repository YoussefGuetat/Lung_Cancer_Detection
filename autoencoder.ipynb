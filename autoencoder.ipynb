{
 "cells": [
  {
   "cell_type": "code",
   "execution_count": 1,
   "metadata": {
    "id": "WShd8p3XKlNg"
   },
   "outputs": [],
   "source": [
    "import os\n",
    "import numpy as np\n",
    "import pandas as pd\n",
    "import torch\n",
    "import torch.nn as nn\n",
    "import torch.optim as optim\n",
    "from torch.utils.data import DataLoader\n",
    "from torchvision import transforms, datasets\n",
    "from sklearn.ensemble import GradientBoostingClassifier\n",
    "from sklearn.feature_selection import SelectKBest, f_classif\n",
    "from tqdm import tqdm"
   ]
  },
  {
   "cell_type": "code",
   "execution_count": 2,
   "metadata": {
    "id": "b9017lZ-Lauh"
   },
   "outputs": [],
   "source": [
    "device = torch.device(\"cuda\" if torch.cuda.is_available() else \"cpu\")"
   ]
  },
  {
   "cell_type": "code",
   "execution_count": 3,
   "metadata": {
    "id": "EwiSaTFoLkjI"
   },
   "outputs": [],
   "source": [
    "import torch.nn as nn\n",
    "import torch.nn.functional as F\n",
    "\n",
    "class CNN(nn.Module):\n",
    "    def __init__(self):\n",
    "        super(CNN, self).__init__()\n",
    "        self.conv1 = nn.Conv2d(3, 32, 3, 1)\n",
    "        self.conv2 = nn.Conv2d(32, 64, 3, 1)\n",
    "        self.conv3 = nn.Conv2d(64, 128, 3, 1)\n",
    "        self.pool = nn.MaxPool2d(2, 2)\n",
    "        self.fc1 = nn.Linear(128 * 62 * 62, 512)  # Adjusted input size based on the target image size\n",
    "        self.fc2 = nn.Linear(512, 10)  # Assuming 10 classes for classification\n",
    "\n",
    "    def forward(self, x):\n",
    "        x = self.pool(F.relu(self.conv1(x)))\n",
    "        x = self.pool(F.relu(self.conv2(x)))\n",
    "        x = self.pool(F.relu(self.conv3(x)))\n",
    "        x = x.view(-1, 128 * 62 * 62)  # Adjusted view size based on the target image size\n",
    "        x = F.relu(self.fc1(x))\n",
    "        x = self.fc2(x)\n",
    "        return x"
   ]
  },
  {
   "cell_type": "code",
   "execution_count": 4,
   "metadata": {},
   "outputs": [],
   "source": [
    "# Load data\n",
    "train_folder = \"D:/Projet_Data/dataset\"\n",
    "transform = transforms.Compose([\n",
    "    transforms.Resize((512, 512)),\n",
    "    transforms.ToTensor(),\n",
    "    transforms.Normalize(mean=[0.5, 0.5, 0.5], std=[0.5, 0.5, 0.5])\n",
    "])\n",
    "train_data = datasets.ImageFolder(root=train_folder, transform=transform)\n",
    "train_loader = DataLoader(train_data, batch_size=9, shuffle=True, drop_last=True)\n",
    "\n",
    "# Initialize model, loss, and optimizer\n",
    "model = CNN().to(device)\n",
    "criterion = nn.CrossEntropyLoss()\n",
    "optimizer = optim.Adam(model.parameters(), lr=0.001)"
   ]
  },
  {
   "cell_type": "code",
   "execution_count": null,
   "metadata": {},
   "outputs": [
    {
     "name": "stderr",
     "output_type": "stream",
     "text": [
      "Epoch 1/10:   3%|▎         | 5/185 [00:54<29:27,  9.82s/batch]"
     ]
    }
   ],
   "source": [
    "# Custom loss function to handle mismatched batch sizes\n",
    "def custom_loss(outputs, labels):\n",
    "    # Calculate loss only on valid elements\n",
    "    valid_outputs = outputs[:labels.size(0)]\n",
    "    loss = criterion(valid_outputs, labels)\n",
    "    return loss\n",
    "\n",
    "# Train the model\n",
    "model.train()\n",
    "total_loss = 0.0\n",
    "total_samples = 0\n",
    "\n",
    "for epoch in range(10):\n",
    "    for images, labels in tqdm(train_loader, desc=f'Epoch {epoch + 1}/{10}', unit='batch'):\n",
    "        images, labels = images.to(device), labels.to(device)\n",
    "        optimizer.zero_grad()\n",
    "        outputs = model(images)\n",
    "        \n",
    "        # Calculate loss using custom loss function\n",
    "        loss = custom_loss(outputs, labels)\n",
    "        loss.backward()\n",
    "        optimizer.step()\n",
    "        \n",
    "        total_loss += loss.item() * images.size(0)\n",
    "        total_samples += images.size(0)\n",
    "    \n",
    "    print(f\"Epoch {epoch + 1}/{10}, Average Loss: {total_loss / total_samples}\")"
   ]
  },
  {
   "cell_type": "code",
   "execution_count": 11,
   "metadata": {},
   "outputs": [
    {
     "name": "stderr",
     "output_type": "stream",
     "text": [
      "Extracting features: 100%|██████████| 122/122 [01:00<00:00,  2.03batch/s]\n"
     ]
    }
   ],
   "source": [
    "# Extract features using the trained model\n",
    "model.eval()\n",
    "features = []\n",
    "labels_list = []\n",
    "with torch.no_grad():\n",
    "    for images, labels in tqdm(train_loader, desc='Extracting features', unit='batch'):\n",
    "        images, labels = images.to(device), labels.to(device)\n",
    "        outputs = model(images)\n",
    "        features.append(outputs.cpu().numpy())\n",
    "        labels_list.append(labels.cpu().numpy())\n",
    "\n",
    "features = np.concatenate(features)\n",
    "class_labels = np.concatenate(labels_list)\n",
    "\n",
    "# Use SelectKBest to select top 20 features\n",
    "selector = SelectKBest(score_func=f_classif, k=10)\n",
    "selected_features = selector.fit_transform(features, class_labels)\n",
    "\n",
    "# Concatenate selected features with class labels\n",
    "selected_features_with_labels = np.column_stack((selected_features, class_labels))\n",
    "\n",
    "# Convert to DataFrame\n",
    "df = pd.DataFrame(selected_features_with_labels, columns=[f'feature_{i}' for i in range(10)] + ['class'])\n",
    "\n",
    "# Save DataFrame to CSV\n",
    "df.to_csv('D:/selected_features.csv', index=False)"
   ]
  },
  {
   "cell_type": "code",
   "execution_count": 1,
   "metadata": {},
   "outputs": [],
   "source": [
    "from sklearn.model_selection import train_test_split\n",
    "from sklearn.metrics import accuracy_score, classification_report\n",
    "from sklearn.svm import SVC\n",
    "from sklearn.tree import DecisionTreeClassifier\n",
    "from xgboost import XGBClassifier\n",
    "import pandas as pd"
   ]
  },
  {
   "cell_type": "code",
   "execution_count": 2,
   "metadata": {},
   "outputs": [],
   "source": [
    "data = pd.read_csv(\"D:/selected_features.csv\")"
   ]
  },
  {
   "cell_type": "code",
   "execution_count": 3,
   "metadata": {},
   "outputs": [
    {
     "data": {
      "text/html": [
       "<div>\n",
       "<style scoped>\n",
       "    .dataframe tbody tr th:only-of-type {\n",
       "        vertical-align: middle;\n",
       "    }\n",
       "\n",
       "    .dataframe tbody tr th {\n",
       "        vertical-align: top;\n",
       "    }\n",
       "\n",
       "    .dataframe thead th {\n",
       "        text-align: right;\n",
       "    }\n",
       "</style>\n",
       "<table border=\"1\" class=\"dataframe\">\n",
       "  <thead>\n",
       "    <tr style=\"text-align: right;\">\n",
       "      <th></th>\n",
       "      <th>feature_0</th>\n",
       "      <th>feature_1</th>\n",
       "      <th>feature_2</th>\n",
       "      <th>feature_3</th>\n",
       "      <th>feature_4</th>\n",
       "      <th>feature_5</th>\n",
       "      <th>feature_6</th>\n",
       "      <th>feature_7</th>\n",
       "      <th>feature_8</th>\n",
       "      <th>feature_9</th>\n",
       "      <th>class</th>\n",
       "    </tr>\n",
       "  </thead>\n",
       "  <tbody>\n",
       "    <tr>\n",
       "      <th>0</th>\n",
       "      <td>2.303434</td>\n",
       "      <td>-2.543594</td>\n",
       "      <td>5.374623</td>\n",
       "      <td>-13.543136</td>\n",
       "      <td>-12.664968</td>\n",
       "      <td>-13.578069</td>\n",
       "      <td>-13.153636</td>\n",
       "      <td>-13.348340</td>\n",
       "      <td>-13.132883</td>\n",
       "      <td>-13.214392</td>\n",
       "      <td>2.0</td>\n",
       "    </tr>\n",
       "    <tr>\n",
       "      <th>1</th>\n",
       "      <td>-3.292030</td>\n",
       "      <td>9.315825</td>\n",
       "      <td>-2.325448</td>\n",
       "      <td>-8.224202</td>\n",
       "      <td>-8.700274</td>\n",
       "      <td>-9.162355</td>\n",
       "      <td>-8.065923</td>\n",
       "      <td>-8.535978</td>\n",
       "      <td>-7.813761</td>\n",
       "      <td>-8.288749</td>\n",
       "      <td>1.0</td>\n",
       "    </tr>\n",
       "    <tr>\n",
       "      <th>2</th>\n",
       "      <td>6.482268</td>\n",
       "      <td>-0.025002</td>\n",
       "      <td>0.284040</td>\n",
       "      <td>-12.436822</td>\n",
       "      <td>-11.347025</td>\n",
       "      <td>-12.214023</td>\n",
       "      <td>-12.164912</td>\n",
       "      <td>-12.203093</td>\n",
       "      <td>-11.637467</td>\n",
       "      <td>-11.916353</td>\n",
       "      <td>0.0</td>\n",
       "    </tr>\n",
       "    <tr>\n",
       "      <th>3</th>\n",
       "      <td>-1.813296</td>\n",
       "      <td>14.699196</td>\n",
       "      <td>-4.693735</td>\n",
       "      <td>-15.119954</td>\n",
       "      <td>-14.501548</td>\n",
       "      <td>-14.645652</td>\n",
       "      <td>-13.171749</td>\n",
       "      <td>-14.868083</td>\n",
       "      <td>-12.924651</td>\n",
       "      <td>-13.337236</td>\n",
       "      <td>1.0</td>\n",
       "    </tr>\n",
       "    <tr>\n",
       "      <th>4</th>\n",
       "      <td>-0.525389</td>\n",
       "      <td>-0.437856</td>\n",
       "      <td>8.197629</td>\n",
       "      <td>-10.146022</td>\n",
       "      <td>-12.727314</td>\n",
       "      <td>-11.933422</td>\n",
       "      <td>-11.127310</td>\n",
       "      <td>-12.252780</td>\n",
       "      <td>-13.060232</td>\n",
       "      <td>-12.360912</td>\n",
       "      <td>2.0</td>\n",
       "    </tr>\n",
       "  </tbody>\n",
       "</table>\n",
       "</div>"
      ],
      "text/plain": [
       "   feature_0  feature_1  feature_2  feature_3  feature_4  feature_5  \\\n",
       "0   2.303434  -2.543594   5.374623 -13.543136 -12.664968 -13.578069   \n",
       "1  -3.292030   9.315825  -2.325448  -8.224202  -8.700274  -9.162355   \n",
       "2   6.482268  -0.025002   0.284040 -12.436822 -11.347025 -12.214023   \n",
       "3  -1.813296  14.699196  -4.693735 -15.119954 -14.501548 -14.645652   \n",
       "4  -0.525389  -0.437856   8.197629 -10.146022 -12.727314 -11.933422   \n",
       "\n",
       "   feature_6  feature_7  feature_8  feature_9  class  \n",
       "0 -13.153636 -13.348340 -13.132883 -13.214392    2.0  \n",
       "1  -8.065923  -8.535978  -7.813761  -8.288749    1.0  \n",
       "2 -12.164912 -12.203093 -11.637467 -11.916353    0.0  \n",
       "3 -13.171749 -14.868083 -12.924651 -13.337236    1.0  \n",
       "4 -11.127310 -12.252780 -13.060232 -12.360912    2.0  "
      ]
     },
     "execution_count": 3,
     "metadata": {},
     "output_type": "execute_result"
    }
   ],
   "source": [
    "data.head()"
   ]
  },
  {
   "cell_type": "code",
   "execution_count": 5,
   "metadata": {},
   "outputs": [
    {
     "data": {
      "image/png": "[encoded data removed]",
      "text/plain": [
       "<Figure size 800x600 with 1 Axes>"
      ]
     },
     "metadata": {},
     "output_type": "display_data"
    }
   ],
   "source": [
    "import matplotlib.pyplot as plt\n",
    "\n",
    "# Assuming you have already imported pandas as pd and read your CSV file into a DataFrame\n",
    "data = pd.read_csv(\"D:/selected_features.csv\")\n",
    "\n",
    "# Plotting the target classes\n",
    "plt.figure(figsize=(8, 6))\n",
    "plt.hist(data['class'], bins=[0, 1, 2, 3], align='left', rwidth=0.8, color='skyblue', edgecolor='black')\n",
    "plt.title('Distribution of Target Classes')\n",
    "plt.xlabel('Target Class')\n",
    "plt.ylabel('Frequency')\n",
    "plt.xticks([0, 1, 2])\n",
    "plt.grid(axis='y', linestyle='--', alpha=0.7)\n",
    "plt.show()"
   ]
  },
  {
   "cell_type": "code",
   "execution_count": 6,
   "metadata": {},
   "outputs": [],
   "source": [
    "X=data.drop(['class'],axis=1)\n",
    "y=data[['class']]"
   ]
  },
  {
   "cell_type": "code",
   "execution_count": 7,
   "metadata": {},
   "outputs": [],
   "source": [
    "# Assuming 'X' contains your features and 'y' contains your target variable\n",
    "X_train, X_test, y_train, y_test = train_test_split(X, y, test_size=0.2, random_state=42)\n"
   ]
  },
  {
   "cell_type": "code",
   "execution_count": 8,
   "metadata": {},
   "outputs": [
    {
     "name": "stdout",
     "output_type": "stream",
     "text": [
      "XGBoost Accuracy: 0.9863636363636363\n",
      "XGBoost Classification Report:\n",
      "              precision    recall  f1-score   support\n",
      "\n",
      "         0.0       1.00      0.93      0.96        28\n",
      "         1.0       0.99      1.00      1.00       105\n",
      "         2.0       0.98      0.99      0.98        87\n",
      "\n",
      "    accuracy                           0.99       220\n",
      "   macro avg       0.99      0.97      0.98       220\n",
      "weighted avg       0.99      0.99      0.99       220\n",
      "\n"
     ]
    }
   ],
   "source": [
    "\n",
    "# Train XGBoost model\n",
    "xgb_model = XGBClassifier()\n",
    "xgb_model.fit(X_train, y_train)\n",
    "xgb_pred = xgb_model.predict(X_test)\n",
    "print(\"XGBoost Accuracy:\", accuracy_score(y_test, xgb_pred))\n",
    "print(\"XGBoost Classification Report:\")\n",
    "print(classification_report(y_test, xgb_pred))\n",
    "\n"
   ]
  },
  {
   "cell_type": "code",
   "execution_count": 9,
   "metadata": {},
   "outputs": [
    {
     "name": "stdout",
     "output_type": "stream",
     "text": [
      "SVM Accuracy: 0.990909090909091\n",
      "SVM Classification Report:\n",
      "              precision    recall  f1-score   support\n",
      "\n",
      "         0.0       1.00      0.96      0.98        28\n",
      "         1.0       0.99      1.00      1.00       105\n",
      "         2.0       0.99      0.99      0.99        87\n",
      "\n",
      "    accuracy                           0.99       220\n",
      "   macro avg       0.99      0.98      0.99       220\n",
      "weighted avg       0.99      0.99      0.99       220\n",
      "\n"
     ]
    },
    {
     "name": "stderr",
     "output_type": "stream",
     "text": [
      "D:\\anaconda3\\Lib\\site-packages\\sklearn\\utils\\validation.py:1184: DataConversionWarning: A column-vector y was passed when a 1d array was expected. Please change the shape of y to (n_samples, ), for example using ravel().\n",
      "  y = column_or_1d(y, warn=True)\n"
     ]
    }
   ],
   "source": [
    "# Train SVM model\n",
    "svm_model = SVC()\n",
    "svm_model.fit(X_train, y_train)\n",
    "svm_pred = svm_model.predict(X_test)\n",
    "print(\"SVM Accuracy:\", accuracy_score(y_test, svm_pred))\n",
    "print(\"SVM Classification Report:\")\n",
    "print(classification_report(y_test, svm_pred))\n",
    "\n"
   ]
  },
  {
   "cell_type": "code",
   "execution_count": 10,
   "metadata": {},
   "outputs": [
    {
     "name": "stdout",
     "output_type": "stream",
     "text": [
      "Decision Tree Accuracy: 0.9863636363636363\n",
      "Decision Tree Classification Report:\n",
      "              precision    recall  f1-score   support\n",
      "\n",
      "         0.0       1.00      0.93      0.96        28\n",
      "         1.0       0.99      1.00      1.00       105\n",
      "         2.0       0.98      0.99      0.98        87\n",
      "\n",
      "    accuracy                           0.99       220\n",
      "   macro avg       0.99      0.97      0.98       220\n",
      "weighted avg       0.99      0.99      0.99       220\n",
      "\n"
     ]
    }
   ],
   "source": [
    "# Train Decision Tree model\n",
    "dt_model = DecisionTreeClassifier()\n",
    "dt_model.fit(X_train, y_train)\n",
    "dt_pred = dt_model.predict(X_test)\n",
    "print(\"Decision Tree Accuracy:\", accuracy_score(y_test, dt_pred))\n",
    "print(\"Decision Tree Classification Report:\")\n",
    "print(classification_report(y_test, dt_pred))"
   ]
  },
  {
   "cell_type": "code",
   "execution_count": null,
   "metadata": {},
   "outputs": [],
   "source": []
  },
  {
   "cell_type": "code",
   "execution_count": null,
   "metadata": {},
   "outputs": [],
   "source": []
  },
  {
   "cell_type": "code",
   "execution_count": null,
   "metadata": {},
   "outputs": [],
   "source": []
  },
  {
   "cell_type": "code",
   "execution_count": null,
   "metadata": {},
   "outputs": [],
   "source": []
  },
  {
   "cell_type": "code",
   "execution_count": null,
   "metadata": {},
   "outputs": [],
   "source": []
  },
  {
   "cell_type": "code",
   "execution_count": null,
   "metadata": {},
   "outputs": [],
   "source": []
  },
  {
   "cell_type": "code",
   "execution_count": null,
   "metadata": {},
   "outputs": [],
   "source": []
  },
  {
   "cell_type": "code",
   "execution_count": null,
   "metadata": {},
   "outputs": [],
   "source": []
  },
  {
   "cell_type": "code",
   "execution_count": null,
   "metadata": {},
   "outputs": [],
   "source": []
  },
  {
   "cell_type": "code",
   "execution_count": null,
   "metadata": {},
   "outputs": [],
   "source": []
  },
  {
   "cell_type": "code",
   "execution_count": null,
   "metadata": {},
   "outputs": [],
   "source": []
  },
  {
   "cell_type": "code",
   "execution_count": null,
   "metadata": {},
   "outputs": [],
   "source": []
  },
  {
   "cell_type": "code",
   "execution_count": null,
   "metadata": {},
   "outputs": [],
   "source": []
  },
  {
   "cell_type": "code",
   "execution_count": null,
   "metadata": {},
   "outputs": [],
   "source": []
  },
  {
   "cell_type": "code",
   "execution_count": null,
   "metadata": {},
   "outputs": [],
   "source": []
  },
  {
   "cell_type": "code",
   "execution_count": null,
   "metadata": {},
   "outputs": [],
   "source": []
  },
  {
   "cell_type": "code",
   "execution_count": 1,
   "metadata": {
    "id": "aIz9tnpDLo1A"
   },
   "outputs": [
    {
     "ename": "NameError",
     "evalue": "name 'Conv2D' is not defined",
     "output_type": "error",
     "traceback": [
      "\u001b[1;31m---------------------------------------------------------------------------\u001b[0m",
      "\u001b[1;31mNameError\u001b[0m                                 Traceback (most recent call last)",
      "Cell \u001b[1;32mIn[1], line 2\u001b[0m\n\u001b[0;32m      1\u001b[0m \u001b[38;5;66;03m# Decoder\u001b[39;00m\n\u001b[1;32m----> 2\u001b[0m x \u001b[38;5;241m=\u001b[39m Conv2D(\u001b[38;5;241m4\u001b[39m, (\u001b[38;5;241m3\u001b[39m, \u001b[38;5;241m3\u001b[39m), activation\u001b[38;5;241m=\u001b[39m\u001b[38;5;124m'\u001b[39m\u001b[38;5;124mrelu\u001b[39m\u001b[38;5;124m'\u001b[39m, padding\u001b[38;5;241m=\u001b[39m\u001b[38;5;124m'\u001b[39m\u001b[38;5;124msame\u001b[39m\u001b[38;5;124m'\u001b[39m)(encoded)\n\u001b[0;32m      3\u001b[0m x \u001b[38;5;241m=\u001b[39m UpSampling2D((\u001b[38;5;241m2\u001b[39m, \u001b[38;5;241m2\u001b[39m))(x)\n\u001b[0;32m      4\u001b[0m x \u001b[38;5;241m=\u001b[39m Conv2D(\u001b[38;5;241m3\u001b[39m, (\u001b[38;5;241m3\u001b[39m, \u001b[38;5;241m3\u001b[39m), activation\u001b[38;5;241m=\u001b[39m\u001b[38;5;124m'\u001b[39m\u001b[38;5;124mrelu\u001b[39m\u001b[38;5;124m'\u001b[39m, padding\u001b[38;5;241m=\u001b[39m\u001b[38;5;124m'\u001b[39m\u001b[38;5;124msame\u001b[39m\u001b[38;5;124m'\u001b[39m)(x)\n",
      "\u001b[1;31mNameError\u001b[0m: name 'Conv2D' is not defined"
     ]
    }
   ],
   "source": [
    "# Decoder\n",
    "x = Conv2D(4, (3, 3), activation='relu', padding='same')(encoded)\n",
    "x = UpSampling2D((2, 2))(x)\n",
    "x = Conv2D(3, (3, 3), activation='relu', padding='same')(x)\n",
    "x = UpSampling2D((2, 2))(x)\n",
    "x = Conv2D(2, (3, 3), activation='relu', padding='same')(x)\n",
    "decoded = Conv2D(3, (3, 3), activation='sigmoid', padding='same')(x)"
   ]
  },
  {
   "cell_type": "code",
   "execution_count": null,
   "metadata": {
    "id": "B2cWFZSmLtk5"
   },
   "outputs": [],
   "source": [
    "# Autoencoder model\n",
    "autoencoder = Model(input_img, decoded)\n",
    "autoencoder.compile(optimizer='adam', loss='mse')"
   ]
  },
  {
   "cell_type": "code",
   "execution_count": null,
   "metadata": {
    "colab": {
     "base_uri": "https://localhost:8080/"
    },
    "id": "QgtBkXz9L0LQ",
    "outputId": "48e7bf8d-65bb-449b-f69f-5de5d53c9172"
   },
   "outputs": [],
   "source": [
    "# Entraînement de l'autoencodeur\n",
    "autoencoder.fit(train_data, train_data, epochs=10, batch_size=16, shuffle=True)"
   ]
  },
  {
   "cell_type": "code",
   "execution_count": null,
   "metadata": {
    "colab": {
     "base_uri": "https://localhost:8080/"
    },
    "id": "yczxEoGNOqyi",
    "outputId": "7a4f532d-9131-4e8d-f429-81d66b643319"
   },
   "outputs": [],
   "source": [
    "# Enregistrer le modèle\n",
    "autoencoder.save(\"D:/autoencoder_model.h5\")"
   ]
  },
  {
   "cell_type": "code",
   "execution_count": null,
   "metadata": {},
   "outputs": [],
   "source": [
    "autoencoder = Model(input_img, decoded)\n",
    "encoded_images = autoencoder.predict(train_data)"
   ]
  },
  {
   "cell_type": "code",
   "execution_count": null,
   "metadata": {},
   "outputs": [],
   "source": [
    "import pandas as pd\n",
    "flattened_images = encoded_images.reshape(encoded_images.shape[0], -1)\n",
    "\n",
    "# Créer un DataFrame à partir des images aplaties\n",
    "feature_df = pd.DataFrame(flattened_images)\n",
    "\n",
    "# Calculer le nombre de parties nécessaires\n",
    "num_chunks = int(np.ceil(len(feature_df.columns) / 16384))\n",
    "\n",
    "# Diviser les colonnes du DataFrame en parties plus petites, chaque partie contenant au maximum 16 384 colonnes\n",
    "for i in range(num_chunks):\n",
    "    start_col = i * 16384\n",
    "    end_col = min((i + 1) * 16384, len(feature_df.columns))\n",
    "    chunk_df = feature_df.iloc[:, start_col:end_col]\n",
    "    chunk_df.to_excel(f'D:/extracted_features_part_{i+1}.xlsx', index=False)"
   ]
  },
  {
   "cell_type": "code",
   "execution_count": null,
   "metadata": {
    "id": "fk7b8lVGRNVp"
   },
   "outputs": [],
   "source": [
    "import numpy as np\n",
    "from tensorflow.keras.preprocessing.image import load_img, img_to_array, array_to_img\n",
    "from tensorflow.keras.models import load_model\n",
    "\n",
    "# Charger le modèle autoencodeur\n",
    "autoencoder = load_model(\"C:/Users/mmm20/Desktop/Youssef/autoencoder_model.h5\")\n",
    "\n"
   ]
  },
  {
   "cell_type": "code",
   "execution_count": null,
   "metadata": {
    "id": "3S4czAZ1ReJs"
   },
   "outputs": [],
   "source": [
    "# Charger et prétraiter l'image JPG\n",
    "def preprocess_image(image_path):\n",
    "    img = load_img(image_path, target_size=(512, 512))  # Charger l'image et la redimensionner\n",
    "    img = img_to_array(img) / 255.0  # Normaliser les valeurs de pixel entre 0 et 1\n",
    "    return img"
   ]
  },
  {
   "cell_type": "code",
   "execution_count": null,
   "metadata": {
    "id": "c1voFcQvRkkh"
   },
   "outputs": [],
   "source": [
    "test_image_path = \"C:/Users/mmm20/Desktop/Youssef/data/Bengin case (40).jpg\"\n",
    "test_image = preprocess_image(test_image_path)"
   ]
  },
  {
   "cell_type": "code",
   "execution_count": null,
   "metadata": {
    "colab": {
     "base_uri": "https://localhost:8080/"
    },
    "id": "kvJj_yV2Rwjf",
    "outputId": "8443fdbe-d586-4f62-b4d0-4159db2796c0"
   },
   "outputs": [],
   "source": [
    "# Utiliser le modèle pour prédire la reconstruction de l'image\n",
    "reconstructed_image = autoencoder.predict(np.array([test_image]))\n",
    "\n",
    "# Afficher l'image reconstruite\n",
    "reconstructed_image = array_to_img(reconstructed_image[0] * 255.0)\n",
    "reconstructed_image.show()"
   ]
  },
  {
   "cell_type": "code",
   "execution_count": null,
   "metadata": {
    "id": "O5XYa3fOR_yN"
   },
   "outputs": [],
   "source": [
    "# Enregistrer l'image reconstruite en JPG\n",
    "reconstructed_image.save(\"C:/Users/mmm20/Desktop/Youssef/reconstructed_image.jpg\")"
   ]
  }
 ],
 "metadata": {
  "colab": {
   "provenance": []
  },
  "kernelspec": {
   "display_name": "Python 3 (ipykernel)",
   "language": "python",
   "name": "python3"
  },
  "language_info": {
   "codemirror_mode": {
    "name": "ipython",
    "version": 3
   },
   "file_extension": ".py",
   "mimetype": "text/x-python",
   "name": "python",
   "nbconvert_exporter": "python",
   "pygments_lexer": "ipython3",
   "version": "3.11.5"
  }
 },
 "nbformat": 4,
 "nbformat_minor": 1
}
